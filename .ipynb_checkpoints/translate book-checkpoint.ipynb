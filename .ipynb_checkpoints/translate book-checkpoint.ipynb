{
 "cells": [
  {
   "cell_type": "markdown",
   "metadata": {},
   "source": [
    "# Reading an epub file and translating it using a transformer model"
   ]
  },
  {
   "cell_type": "code",
   "execution_count": 3,
   "metadata": {},
   "outputs": [],
   "source": [
    "from epub_conversion.utils import open_book, convert_epub_to_lines\n",
    "from transformers import AutoTokenizer, AutoModelForSeq2SeqLM\n",
    "import re, time\n",
    "from tqdm.notebook import tqdm\n",
    "\n",
    "# installing other libraries\n",
    "import sys\n",
    "!{sys.executable} -m pip install xml_cleaner\n",
    "!{sys.executable} -m pip install epub_conversion"
   ]
  },
  {
   "cell_type": "markdown",
   "metadata": {},
   "source": [
    "## get model"
   ]
  },
  {
   "cell_type": "code",
   "execution_count": null,
   "metadata": {},
   "outputs": [],
   "source": [
    "tokenizer = AutoTokenizer.from_pretrained(\"Helsinki-NLP/opus-mt-en-da\",truncation=True, max_length=500)\n",
    "model     = AutoModelForSeq2SeqLM.from_pretrained(\"Helsinki-NLP/opus-mt-en-da\")"
   ]
  },
  {
   "cell_type": "markdown",
   "metadata": {},
   "source": [
    "## read book"
   ]
  },
  {
   "cell_type": "code",
   "execution_count": 75,
   "metadata": {},
   "outputs": [],
   "source": [
    "book = open_book(\"/Users/peerchristensen/Downloads/DaVinciCode.epub\")\n",
    "\n",
    "lines = convert_epub_to_lines(book)"
   ]
  },
  {
   "cell_type": "markdown",
   "metadata": {},
   "source": [
    "## clean text"
   ]
  },
  {
   "cell_type": "code",
   "execution_count": 76,
   "metadata": {},
   "outputs": [],
   "source": [
    "def clean_text(text):\n",
    "  cleanr = re.compile('<.*?>')\n",
    "  cleantext = re.sub(cleanr, '', text)\n",
    "  return cleantext"
   ]
  },
  {
   "cell_type": "code",
   "execution_count": 77,
   "metadata": {},
   "outputs": [],
   "source": [
    "cleaned_text = [clean_text(line) for line in lines]"
   ]
  },
  {
   "cell_type": "markdown",
   "metadata": {},
   "source": [
    "## translate"
   ]
  },
  {
   "cell_type": "code",
   "execution_count": null,
   "metadata": {},
   "outputs": [
    {
     "data": {
      "application/vnd.jupyter.widget-view+json": {
       "model_id": "58fe727363244e929d0edc961bd5301f",
       "version_major": 2,
       "version_minor": 0
      },
      "text/plain": [
       "HBox(children=(FloatProgress(value=0.0, max=4464.0), HTML(value='')))"
      ]
     },
     "metadata": {},
     "output_type": "display_data"
    }
   ],
   "source": [
    "translated = []\n",
    "\n",
    "tic = time.perf_counter()\n",
    "\n",
    "for i in tqdm(cleaned_text):\n",
    "    input  = tokenizer.encode(i, return_tensors=\"pt\")\n",
    "    output = model.generate(input, early_stopping=True)\n",
    "    trans  = tokenizer.decode(output[0])\n",
    "    translated.append(trans)\n",
    "    \n",
    "toc = time.perf_counter()\n",
    "\n",
    "print(f\"Time to translate: {(toc - tic) / 60:0.2f} minutes\")"
   ]
  },
  {
   "cell_type": "markdown",
   "metadata": {},
   "source": [
    "## Clean translation"
   ]
  },
  {
   "cell_type": "code",
   "execution_count": null,
   "metadata": {},
   "outputs": [],
   "source": [
    "clean_translation = [clean_text(text) for text in translated]\n",
    "\n",
    "stripped = [text.strip() for text in clean_translation]"
   ]
  },
  {
   "cell_type": "code",
   "execution_count": null,
   "metadata": {},
   "outputs": [],
   "source": [
    "stripped"
   ]
  },
  {
   "cell_type": "markdown",
   "metadata": {},
   "source": [
    "## Save file"
   ]
  },
  {
   "cell_type": "code",
   "execution_count": null,
   "metadata": {},
   "outputs": [],
   "source": [
    "file = open('davinci_translated_en_da2.txt','w')\n",
    "for element in stripped:\n",
    "    file.write(element+'\\n')\n",
    "\n",
    "file.close()"
   ]
  }
 ],
 "metadata": {
  "kernelspec": {
   "display_name": "Python 3",
   "language": "python",
   "name": "python3"
  },
  "language_info": {
   "codemirror_mode": {
    "name": "ipython",
    "version": 3
   },
   "file_extension": ".py",
   "mimetype": "text/x-python",
   "name": "python",
   "nbconvert_exporter": "python",
   "pygments_lexer": "ipython3",
   "version": "3.7.6"
  }
 },
 "nbformat": 4,
 "nbformat_minor": 4
}
