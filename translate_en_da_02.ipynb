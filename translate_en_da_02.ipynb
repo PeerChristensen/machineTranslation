{
 "cells": [
  {
   "cell_type": "code",
   "execution_count": 42,
   "metadata": {},
   "outputs": [
    {
     "name": "stderr",
     "output_type": "stream",
     "text": [
      "[nltk_data] Downloading package punkt to\n",
      "[nltk_data]     /Users/peerchristensen/nltk_data...\n",
      "[nltk_data]   Unzipping tokenizers/punkt.zip.\n"
     ]
    }
   ],
   "source": [
    "from epub_conversion.utils import open_book, convert_epub_to_lines\n",
    "import re, time\n",
    "from tqdm.notebook import tqdm\n",
    "import pandas as pd\n",
    "import nltk\n",
    "import numpy as np\n",
    "\n",
    "nltk.download('punkt')\n",
    "\n",
    "from nltk.tokenize import sent_tokenize\n",
    "from transformers import MarianMTModel, MarianTokenizer"
   ]
  },
  {
   "cell_type": "code",
   "execution_count": 43,
   "metadata": {},
   "outputs": [],
   "source": [
    "book = open_book(\"/Users/peerchristensen/Downloads/DaVinciCode.epub\")\n",
    "\n",
    "lines = convert_epub_to_lines(book)"
   ]
  },
  {
   "cell_type": "code",
   "execution_count": 44,
   "metadata": {},
   "outputs": [],
   "source": [
    "def clean_text(text):\n",
    "  cleanr = re.compile('<.*?>')\n",
    "  cleantext = re.sub(cleanr, '', text)\n",
    "  return cleantext\n",
    "\n",
    "cleaned_text = [clean_text(line) for line in lines]\n",
    "\n",
    "def trim_text(s, n):\n",
    "    return ' '.join(s.split()[:n])\n",
    "\n",
    "#trimmed_text = [trim_text(text,500) for text in cleaned_text]\n",
    "\n",
    "cleaned_text = [text.strip() for text in cleaned_text]\n",
    "\n",
    "cleaned_text = list(filter(None, cleaned_text))\n"
   ]
  },
  {
   "cell_type": "code",
   "execution_count": 45,
   "metadata": {},
   "outputs": [],
   "source": [
    "index = np.arange(len(cleaned_text))\n",
    "\n",
    "data = pd.DataFrame({'index': index,\n",
    "                   'text': cleaned_text})"
   ]
  },
  {
   "cell_type": "code",
   "execution_count": 46,
   "metadata": {},
   "outputs": [
    {
     "data": {
      "text/html": [
       "<div>\n",
       "<style scoped>\n",
       "    .dataframe tbody tr th:only-of-type {\n",
       "        vertical-align: middle;\n",
       "    }\n",
       "\n",
       "    .dataframe tbody tr th {\n",
       "        vertical-align: top;\n",
       "    }\n",
       "\n",
       "    .dataframe thead th {\n",
       "        text-align: right;\n",
       "    }\n",
       "</style>\n",
       "<table border=\"1\" class=\"dataframe\">\n",
       "  <thead>\n",
       "    <tr style=\"text-align: right;\">\n",
       "      <th></th>\n",
       "      <th>index</th>\n",
       "      <th>text</th>\n",
       "    </tr>\n",
       "  </thead>\n",
       "  <tbody>\n",
       "    <tr>\n",
       "      <th>0</th>\n",
       "      <td>0</td>\n",
       "      <td>The Da Vinci Code</td>\n",
       "    </tr>\n",
       "    <tr>\n",
       "      <th>1</th>\n",
       "      <td>1</td>\n",
       "      <td>Dan Brown</td>\n",
       "    </tr>\n",
       "    <tr>\n",
       "      <th>2</th>\n",
       "      <td>2</td>\n",
       "      <td>FOR BLYTHE... AGAIN. MORE THAN EVER.</td>\n",
       "    </tr>\n",
       "    <tr>\n",
       "      <th>3</th>\n",
       "      <td>3</td>\n",
       "      <td>Acknowledgments</td>\n",
       "    </tr>\n",
       "    <tr>\n",
       "      <th>4</th>\n",
       "      <td>4</td>\n",
       "      <td>First and foremost, to my friend and editor, J...</td>\n",
       "    </tr>\n",
       "  </tbody>\n",
       "</table>\n",
       "</div>"
      ],
      "text/plain": [
       "   index                                               text\n",
       "0      0                                  The Da Vinci Code\n",
       "1      1                                          Dan Brown\n",
       "2      2               FOR BLYTHE... AGAIN. MORE THAN EVER.\n",
       "3      3                                    Acknowledgments\n",
       "4      4  First and foremost, to my friend and editor, J..."
      ]
     },
     "execution_count": 46,
     "metadata": {},
     "output_type": "execute_result"
    }
   ],
   "source": [
    "data.head()"
   ]
  },
  {
   "cell_type": "code",
   "execution_count": 47,
   "metadata": {},
   "outputs": [],
   "source": [
    "def translate(text):\n",
    "    if text is None or text == \"\":\n",
    "        return \"Error\",\n",
    "\n",
    "    #batch input + sentence tokenization\n",
    "    batch = tokenizer.prepare_seq2seq_batch(sent_tokenize(text))\n",
    "\n",
    "    #run model\n",
    "    translated = model.generate(**batch)\n",
    "    tgt_text = [tokenizer.decode(t, skip_special_tokens=True) for t in translated]\n",
    "\n",
    "    return \" \".join(tgt_text)"
   ]
  },
  {
   "cell_type": "code",
   "execution_count": 48,
   "metadata": {},
   "outputs": [],
   "source": [
    "model = MarianMTModel.from_pretrained(\"Helsinki-NLP/opus-mt-en-da\")\n",
    "\n",
    "tokenizer = MarianTokenizer.from_pretrained(\"Helsinki-NLP/opus-mt-en-da\")"
   ]
  },
  {
   "cell_type": "code",
   "execution_count": 49,
   "metadata": {},
   "outputs": [
    {
     "name": "stdout",
     "output_type": "stream",
     "text": [
      "CPU times: user 8h 30min 40s, sys: 34min 36s, total: 9h 5min 16s\n",
      "Wall time: 4h 42min 11s\n"
     ]
    }
   ],
   "source": [
    "%%time\n",
    "\n",
    "data[\"clean_text\"] = data['text'].map(lambda text: clean_text(text))\n",
    "\n",
    "data['translated'] = data[\"clean_text\"].map(lambda x: translate(x)).copy()"
   ]
  },
  {
   "cell_type": "code",
   "execution_count": 50,
   "metadata": {},
   "outputs": [],
   "source": [
    "data.to_csv('translated.csv')"
   ]
  },
  {
   "cell_type": "code",
   "execution_count": null,
   "metadata": {},
   "outputs": [],
   "source": []
  }
 ],
 "metadata": {
  "kernelspec": {
   "display_name": "Python 3",
   "language": "python",
   "name": "python3"
  },
  "language_info": {
   "codemirror_mode": {
    "name": "ipython",
    "version": 3
   },
   "file_extension": ".py",
   "mimetype": "text/x-python",
   "name": "python",
   "nbconvert_exporter": "python",
   "pygments_lexer": "ipython3",
   "version": "3.7.6"
  }
 },
 "nbformat": 4,
 "nbformat_minor": 4
}
